{
 "cells": [
  {
   "cell_type": "code",
   "execution_count": 2,
   "metadata": {},
   "outputs": [
    {
     "data": {
      "text/html": [
       "<div>\n",
       "<style scoped>\n",
       "    .dataframe tbody tr th:only-of-type {\n",
       "        vertical-align: middle;\n",
       "    }\n",
       "\n",
       "    .dataframe tbody tr th {\n",
       "        vertical-align: top;\n",
       "    }\n",
       "\n",
       "    .dataframe thead th {\n",
       "        text-align: right;\n",
       "    }\n",
       "</style>\n",
       "<table border=\"1\" class=\"dataframe\">\n",
       "  <thead>\n",
       "    <tr style=\"text-align: right;\">\n",
       "      <th></th>\n",
       "      <th>Month</th>\n",
       "      <th>Passengers</th>\n",
       "    </tr>\n",
       "  </thead>\n",
       "  <tbody>\n",
       "    <tr>\n",
       "      <th>0</th>\n",
       "      <td>1949-01</td>\n",
       "      <td>112</td>\n",
       "    </tr>\n",
       "    <tr>\n",
       "      <th>1</th>\n",
       "      <td>1949-02</td>\n",
       "      <td>118</td>\n",
       "    </tr>\n",
       "    <tr>\n",
       "      <th>2</th>\n",
       "      <td>1949-03</td>\n",
       "      <td>132</td>\n",
       "    </tr>\n",
       "    <tr>\n",
       "      <th>3</th>\n",
       "      <td>1949-04</td>\n",
       "      <td>129</td>\n",
       "    </tr>\n",
       "    <tr>\n",
       "      <th>4</th>\n",
       "      <td>1949-05</td>\n",
       "      <td>121</td>\n",
       "    </tr>\n",
       "    <tr>\n",
       "      <th>...</th>\n",
       "      <td>...</td>\n",
       "      <td>...</td>\n",
       "    </tr>\n",
       "    <tr>\n",
       "      <th>139</th>\n",
       "      <td>1960-08</td>\n",
       "      <td>606</td>\n",
       "    </tr>\n",
       "    <tr>\n",
       "      <th>140</th>\n",
       "      <td>1960-09</td>\n",
       "      <td>508</td>\n",
       "    </tr>\n",
       "    <tr>\n",
       "      <th>141</th>\n",
       "      <td>1960-10</td>\n",
       "      <td>461</td>\n",
       "    </tr>\n",
       "    <tr>\n",
       "      <th>142</th>\n",
       "      <td>1960-11</td>\n",
       "      <td>390</td>\n",
       "    </tr>\n",
       "    <tr>\n",
       "      <th>143</th>\n",
       "      <td>1960-12</td>\n",
       "      <td>432</td>\n",
       "    </tr>\n",
       "  </tbody>\n",
       "</table>\n",
       "<p>144 rows × 2 columns</p>\n",
       "</div>"
      ],
      "text/plain": [
       "       Month  Passengers\n",
       "0    1949-01         112\n",
       "1    1949-02         118\n",
       "2    1949-03         132\n",
       "3    1949-04         129\n",
       "4    1949-05         121\n",
       "..       ...         ...\n",
       "139  1960-08         606\n",
       "140  1960-09         508\n",
       "141  1960-10         461\n",
       "142  1960-11         390\n",
       "143  1960-12         432\n",
       "\n",
       "[144 rows x 2 columns]"
      ]
     },
     "execution_count": 2,
     "metadata": {},
     "output_type": "execute_result"
    }
   ],
   "source": [
    "import pandas as pd\n",
    "\n",
    "df  = pd.read_csv(\"https://raw.githubusercontent.com/jbrownlee/Datasets/master/airline-passengers.csv\")\n",
    "\n",
    "df"
   ]
  },
  {
   "cell_type": "code",
   "execution_count": 7,
   "metadata": {},
   "outputs": [
    {
     "name": "stdout",
     "output_type": "stream",
     "text": [
      "Collecting statsmodelsNote: you may need to restart the kernel to use updated packages.\n",
      "\n",
      "  Downloading statsmodels-0.14.2-cp312-cp312-win_amd64.whl.metadata (9.5 kB)\n",
      "Requirement already satisfied: numpy>=1.22.3 in c:\\users\\a22308\\appdata\\local\\programs\\python\\python312\\lib\\site-packages (from statsmodels) (2.0.0)\n",
      "Requirement already satisfied: scipy!=1.9.2,>=1.8 in c:\\users\\a22308\\appdata\\local\\programs\\python\\python312\\lib\\site-packages (from statsmodels) (1.14.0)\n",
      "Requirement already satisfied: pandas!=2.1.0,>=1.4 in c:\\users\\a22308\\appdata\\local\\programs\\python\\python312\\lib\\site-packages (from statsmodels) (2.2.2)\n",
      "Collecting patsy>=0.5.6 (from statsmodels)\n",
      "  Downloading patsy-0.5.6-py2.py3-none-any.whl.metadata (3.5 kB)\n",
      "Requirement already satisfied: packaging>=21.3 in c:\\users\\a22308\\appdata\\roaming\\python\\python312\\site-packages (from statsmodels) (24.1)\n",
      "Requirement already satisfied: python-dateutil>=2.8.2 in c:\\users\\a22308\\appdata\\roaming\\python\\python312\\site-packages (from pandas!=2.1.0,>=1.4->statsmodels) (2.9.0.post0)\n",
      "Requirement already satisfied: pytz>=2020.1 in c:\\users\\a22308\\appdata\\local\\programs\\python\\python312\\lib\\site-packages (from pandas!=2.1.0,>=1.4->statsmodels) (2024.1)\n",
      "Requirement already satisfied: tzdata>=2022.7 in c:\\users\\a22308\\appdata\\local\\programs\\python\\python312\\lib\\site-packages (from pandas!=2.1.0,>=1.4->statsmodels) (2024.1)\n",
      "Requirement already satisfied: six in c:\\users\\a22308\\appdata\\roaming\\python\\python312\\site-packages (from patsy>=0.5.6->statsmodels) (1.16.0)\n",
      "Downloading statsmodels-0.14.2-cp312-cp312-win_amd64.whl (9.8 MB)\n",
      "   ---------------------------------------- 0.0/9.8 MB ? eta -:--:--\n",
      "   ---------------------------------------- 0.0/9.8 MB 660.6 kB/s eta 0:00:15\n",
      "   ---------------------------------------- 0.0/9.8 MB 653.6 kB/s eta 0:00:15\n",
      "   ---------------------------------------- 0.1/9.8 MB 563.7 kB/s eta 0:00:18\n",
      "   ---------------------------------------- 0.1/9.8 MB 492.8 kB/s eta 0:00:20\n",
      "    --------------------------------------- 0.1/9.8 MB 516.7 kB/s eta 0:00:19\n",
      "    --------------------------------------- 0.1/9.8 MB 532.5 kB/s eta 0:00:19\n",
      "    --------------------------------------- 0.2/9.8 MB 525.1 kB/s eta 0:00:19\n",
      "    --------------------------------------- 0.2/9.8 MB 484.9 kB/s eta 0:00:20\n",
      "    --------------------------------------- 0.2/9.8 MB 529.7 kB/s eta 0:00:19\n",
      "    --------------------------------------- 0.2/9.8 MB 515.5 kB/s eta 0:00:19\n",
      "   - -------------------------------------- 0.3/9.8 MB 512.0 kB/s eta 0:00:19\n",
      "   - -------------------------------------- 0.3/9.8 MB 542.9 kB/s eta 0:00:18\n",
      "   - -------------------------------------- 0.3/9.8 MB 531.5 kB/s eta 0:00:18\n",
      "   - -------------------------------------- 0.3/9.8 MB 528.0 kB/s eta 0:00:18\n",
      "   - -------------------------------------- 0.4/9.8 MB 551.5 kB/s eta 0:00:18\n",
      "   - -------------------------------------- 0.4/9.8 MB 558.0 kB/s eta 0:00:17\n",
      "   - -------------------------------------- 0.4/9.8 MB 559.8 kB/s eta 0:00:17\n",
      "   - -------------------------------------- 0.5/9.8 MB 568.9 kB/s eta 0:00:17\n",
      "   -- ------------------------------------- 0.5/9.8 MB 573.4 kB/s eta 0:00:17\n",
      "   -- ------------------------------------- 0.6/9.8 MB 599.0 kB/s eta 0:00:16\n",
      "   -- ------------------------------------- 0.6/9.8 MB 601.7 kB/s eta 0:00:16\n",
      "   -- ------------------------------------- 0.6/9.8 MB 604.2 kB/s eta 0:00:16\n",
      "   -- ------------------------------------- 0.7/9.8 MB 625.9 kB/s eta 0:00:15\n",
      "   -- ------------------------------------- 0.7/9.8 MB 627.7 kB/s eta 0:00:15\n",
      "   --- ------------------------------------ 0.7/9.8 MB 646.7 kB/s eta 0:00:15\n",
      "   --- ------------------------------------ 0.7/9.8 MB 646.7 kB/s eta 0:00:15\n",
      "   --- ------------------------------------ 0.8/9.8 MB 647.3 kB/s eta 0:00:14\n",
      "   --- ------------------------------------ 0.8/9.8 MB 647.6 kB/s eta 0:00:14\n",
      "   --- ------------------------------------ 0.9/9.8 MB 647.8 kB/s eta 0:00:14\n",
      "   --- ------------------------------------ 0.9/9.8 MB 640.5 kB/s eta 0:00:14\n",
      "   --- ------------------------------------ 0.9/9.8 MB 648.2 kB/s eta 0:00:14\n",
      "   --- ------------------------------------ 1.0/9.8 MB 648.7 kB/s eta 0:00:14\n",
      "   ---- ----------------------------------- 1.0/9.8 MB 648.9 kB/s eta 0:00:14\n",
      "   ---- ----------------------------------- 1.0/9.8 MB 649.0 kB/s eta 0:00:14\n",
      "   ---- ----------------------------------- 1.1/9.8 MB 649.1 kB/s eta 0:00:14\n",
      "   ---- ----------------------------------- 1.1/9.8 MB 655.6 kB/s eta 0:00:14\n",
      "   ---- ----------------------------------- 1.1/9.8 MB 661.6 kB/s eta 0:00:14\n",
      "   ---- ----------------------------------- 1.2/9.8 MB 661.4 kB/s eta 0:00:14\n",
      "   ---- ----------------------------------- 1.2/9.8 MB 661.2 kB/s eta 0:00:14\n",
      "   ---- ----------------------------------- 1.2/9.8 MB 661.0 kB/s eta 0:00:14\n",
      "   ----- ---------------------------------- 1.2/9.8 MB 666.5 kB/s eta 0:00:13\n",
      "   ----- ---------------------------------- 1.3/9.8 MB 671.4 kB/s eta 0:00:13\n",
      "   ----- ---------------------------------- 1.3/9.8 MB 671.0 kB/s eta 0:00:13\n",
      "   ----- ---------------------------------- 1.4/9.8 MB 681.0 kB/s eta 0:00:13\n",
      "   ----- ---------------------------------- 1.4/9.8 MB 685.3 kB/s eta 0:00:13\n",
      "   ----- ---------------------------------- 1.5/9.8 MB 684.6 kB/s eta 0:00:13\n",
      "   ------ --------------------------------- 1.5/9.8 MB 693.4 kB/s eta 0:00:12\n",
      "   ------ --------------------------------- 1.6/9.8 MB 701.9 kB/s eta 0:00:12\n",
      "   ------ --------------------------------- 1.6/9.8 MB 705.4 kB/s eta 0:00:12\n",
      "   ------ --------------------------------- 1.6/9.8 MB 713.3 kB/s eta 0:00:12\n",
      "   ------ --------------------------------- 1.7/9.8 MB 721.1 kB/s eta 0:00:12\n",
      "   ------- -------------------------------- 1.7/9.8 MB 724.3 kB/s eta 0:00:12\n",
      "   ------- -------------------------------- 1.8/9.8 MB 731.4 kB/s eta 0:00:11\n",
      "   ------- -------------------------------- 1.8/9.8 MB 738.5 kB/s eta 0:00:11\n",
      "   ------- -------------------------------- 1.9/9.8 MB 745.1 kB/s eta 0:00:11\n",
      "   ------- -------------------------------- 1.9/9.8 MB 747.4 kB/s eta 0:00:11\n",
      "   -------- ------------------------------- 2.0/9.8 MB 756.8 kB/s eta 0:00:11\n",
      "   -------- ------------------------------- 2.0/9.8 MB 759.5 kB/s eta 0:00:11\n",
      "   -------- ------------------------------- 2.1/9.8 MB 764.8 kB/s eta 0:00:11\n",
      "   -------- ------------------------------- 2.1/9.8 MB 775.3 kB/s eta 0:00:10\n",
      "   -------- ------------------------------- 2.2/9.8 MB 775.6 kB/s eta 0:00:10\n",
      "   --------- ------------------------------ 2.3/9.8 MB 784.4 kB/s eta 0:00:10\n",
      "   --------- ------------------------------ 2.3/9.8 MB 793.7 kB/s eta 0:00:10\n",
      "   --------- ------------------------------ 2.4/9.8 MB 805.4 kB/s eta 0:00:10\n",
      "   --------- ------------------------------ 2.4/9.8 MB 806.4 kB/s eta 0:00:10\n",
      "   ---------- ----------------------------- 2.5/9.8 MB 817.6 kB/s eta 0:00:09\n",
      "   ---------- ----------------------------- 2.5/9.8 MB 821.7 kB/s eta 0:00:09\n",
      "   ---------- ----------------------------- 2.6/9.8 MB 822.5 kB/s eta 0:00:09\n",
      "   ---------- ----------------------------- 2.7/9.8 MB 832.9 kB/s eta 0:00:09\n",
      "   ----------- ---------------------------- 2.7/9.8 MB 840.1 kB/s eta 0:00:09\n",
      "   ----------- ---------------------------- 2.8/9.8 MB 853.1 kB/s eta 0:00:09\n",
      "   ----------- ---------------------------- 2.9/9.8 MB 862.6 kB/s eta 0:00:09\n",
      "   ----------- ---------------------------- 2.9/9.8 MB 868.8 kB/s eta 0:00:08\n",
      "   ------------ --------------------------- 3.0/9.8 MB 876.0 kB/s eta 0:00:08\n",
      "   ------------ --------------------------- 3.0/9.8 MB 881.9 kB/s eta 0:00:08\n",
      "   ------------ --------------------------- 3.1/9.8 MB 889.4 kB/s eta 0:00:08\n",
      "   ------------ --------------------------- 3.1/9.8 MB 891.4 kB/s eta 0:00:08\n",
      "   ------------- -------------------------- 3.2/9.8 MB 889.2 kB/s eta 0:00:08\n",
      "   ------------- -------------------------- 3.3/9.8 MB 897.4 kB/s eta 0:00:08\n",
      "   ------------- -------------------------- 3.3/9.8 MB 898.0 kB/s eta 0:00:08\n",
      "   ------------- -------------------------- 3.4/9.8 MB 900.6 kB/s eta 0:00:08\n",
      "   ------------- -------------------------- 3.4/9.8 MB 901.9 kB/s eta 0:00:08\n",
      "   -------------- ------------------------- 3.5/9.8 MB 908.0 kB/s eta 0:00:07\n",
      "   -------------- ------------------------- 3.5/9.8 MB 909.0 kB/s eta 0:00:07\n",
      "   -------------- ------------------------- 3.6/9.8 MB 914.9 kB/s eta 0:00:07\n",
      "   -------------- ------------------------- 3.7/9.8 MB 918.7 kB/s eta 0:00:07\n",
      "   -------------- ------------------------- 3.7/9.8 MB 921.3 kB/s eta 0:00:07\n",
      "   -------------- ------------------------- 3.7/9.8 MB 921.3 kB/s eta 0:00:07\n",
      "   -------------- ------------------------- 3.7/9.8 MB 921.3 kB/s eta 0:00:07\n",
      "   --------------- ------------------------ 3.7/9.8 MB 900.3 kB/s eta 0:00:07\n",
      "   --------------- ------------------------ 3.8/9.8 MB 900.0 kB/s eta 0:00:07\n",
      "   --------------- ------------------------ 3.9/9.8 MB 906.9 kB/s eta 0:00:07\n",
      "   --------------- ------------------------ 3.9/9.8 MB 911.3 kB/s eta 0:00:07\n",
      "   ---------------- ----------------------- 4.0/9.8 MB 913.3 kB/s eta 0:00:07\n",
      "   ---------------- ----------------------- 4.0/9.8 MB 915.2 kB/s eta 0:00:07\n",
      "   ---------------- ----------------------- 4.0/9.8 MB 914.4 kB/s eta 0:00:07\n",
      "   ---------------- ----------------------- 4.1/9.8 MB 917.5 kB/s eta 0:00:07\n",
      "   ---------------- ----------------------- 4.2/9.8 MB 918.5 kB/s eta 0:00:07\n",
      "   ----------------- ---------------------- 4.2/9.8 MB 923.3 kB/s eta 0:00:07\n",
      "   ----------------- ---------------------- 4.3/9.8 MB 927.5 kB/s eta 0:00:06\n",
      "   ----------------- ---------------------- 4.3/9.8 MB 930.3 kB/s eta 0:00:06\n",
      "   ----------------- ---------------------- 4.4/9.8 MB 935.1 kB/s eta 0:00:06\n",
      "   ------------------ --------------------- 4.5/9.8 MB 939.9 kB/s eta 0:00:06\n",
      "   ------------------ --------------------- 4.5/9.8 MB 946.7 kB/s eta 0:00:06\n",
      "   ------------------ --------------------- 4.6/9.8 MB 950.2 kB/s eta 0:00:06\n",
      "   ------------------- -------------------- 4.7/9.8 MB 955.7 kB/s eta 0:00:06\n",
      "   ------------------- -------------------- 4.8/9.8 MB 960.3 kB/s eta 0:00:06\n",
      "   ------------------- -------------------- 4.8/9.8 MB 966.7 kB/s eta 0:00:06\n",
      "   ------------------- -------------------- 4.8/9.8 MB 966.7 kB/s eta 0:00:06\n",
      "   ------------------- -------------------- 4.9/9.8 MB 964.9 kB/s eta 0:00:06\n",
      "   -------------------- ------------------- 5.0/9.8 MB 970.1 kB/s eta 0:00:06\n",
      "   -------------------- ------------------- 5.0/9.8 MB 971.2 kB/s eta 0:00:05\n",
      "   -------------------- ------------------- 5.1/9.8 MB 970.3 kB/s eta 0:00:05\n",
      "   -------------------- ------------------- 5.1/9.8 MB 971.3 kB/s eta 0:00:05\n",
      "   --------------------- ------------------ 5.2/9.8 MB 972.4 kB/s eta 0:00:05\n",
      "   --------------------- ------------------ 5.2/9.8 MB 976.3 kB/s eta 0:00:05\n",
      "   --------------------- ------------------ 5.3/9.8 MB 975.4 kB/s eta 0:00:05\n",
      "   --------------------- ------------------ 5.3/9.8 MB 977.5 kB/s eta 0:00:05\n",
      "   --------------------- ------------------ 5.4/9.8 MB 979.4 kB/s eta 0:00:05\n",
      "   ---------------------- ----------------- 5.4/9.8 MB 980.4 kB/s eta 0:00:05\n",
      "   ---------------------- ----------------- 5.5/9.8 MB 981.3 kB/s eta 0:00:05\n",
      "   ---------------------- ----------------- 5.5/9.8 MB 982.2 kB/s eta 0:00:05\n",
      "   ---------------------- ----------------- 5.6/9.8 MB 982.1 kB/s eta 0:00:05\n",
      "   ----------------------- ---------------- 5.7/9.8 MB 986.8 kB/s eta 0:00:05\n",
      "   ----------------------- ---------------- 5.7/9.8 MB 988.4 kB/s eta 0:00:05\n",
      "   ----------------------- ---------------- 5.8/9.8 MB 992.7 kB/s eta 0:00:05\n",
      "   ----------------------- ---------------- 5.8/9.8 MB 995.4 kB/s eta 0:00:05\n",
      "   ----------------------- ---------------- 5.9/9.8 MB 996.2 kB/s eta 0:00:04\n",
      "   ------------------------ --------------- 5.9/9.8 MB 998.6 kB/s eta 0:00:04\n",
      "   ------------------------ --------------- 6.0/9.8 MB 1.0 MB/s eta 0:00:04\n",
      "   ------------------------ --------------- 6.1/9.8 MB 1.0 MB/s eta 0:00:04\n",
      "   ------------------------- -------------- 6.1/9.8 MB 1.0 MB/s eta 0:00:04\n",
      "   ------------------------- -------------- 6.2/9.8 MB 1.0 MB/s eta 0:00:04\n",
      "   ------------------------- -------------- 6.3/9.8 MB 1.0 MB/s eta 0:00:04\n",
      "   ------------------------- -------------- 6.3/9.8 MB 1.0 MB/s eta 0:00:04\n",
      "   -------------------------- ------------- 6.4/9.8 MB 1.0 MB/s eta 0:00:04\n",
      "   -------------------------- ------------- 6.5/9.8 MB 1.0 MB/s eta 0:00:04\n",
      "   -------------------------- ------------- 6.5/9.8 MB 1.0 MB/s eta 0:00:04\n",
      "   -------------------------- ------------- 6.6/9.8 MB 1.0 MB/s eta 0:00:04\n",
      "   -------------------------- ------------- 6.6/9.8 MB 1.0 MB/s eta 0:00:04\n",
      "   --------------------------- ------------ 6.7/9.8 MB 1.0 MB/s eta 0:00:04\n",
      "   --------------------------- ------------ 6.8/9.8 MB 1.0 MB/s eta 0:00:03\n",
      "   --------------------------- ------------ 6.8/9.8 MB 1.0 MB/s eta 0:00:03\n",
      "   ---------------------------- ----------- 6.9/9.8 MB 1.0 MB/s eta 0:00:03\n",
      "   ---------------------------- ----------- 7.0/9.8 MB 1.0 MB/s eta 0:00:03\n",
      "   ---------------------------- ----------- 7.1/9.8 MB 1.0 MB/s eta 0:00:03\n",
      "   ----------------------------- ---------- 7.1/9.8 MB 1.1 MB/s eta 0:00:03\n",
      "   ----------------------------- ---------- 7.2/9.8 MB 1.1 MB/s eta 0:00:03\n",
      "   ----------------------------- ---------- 7.3/9.8 MB 1.1 MB/s eta 0:00:03\n",
      "   ------------------------------ --------- 7.4/9.8 MB 1.1 MB/s eta 0:00:03\n",
      "   ------------------------------ --------- 7.5/9.8 MB 1.1 MB/s eta 0:00:03\n",
      "   ------------------------------ --------- 7.5/9.8 MB 1.1 MB/s eta 0:00:03\n",
      "   ------------------------------ --------- 7.6/9.8 MB 1.1 MB/s eta 0:00:03\n",
      "   ------------------------------- -------- 7.7/9.8 MB 1.1 MB/s eta 0:00:02\n",
      "   ------------------------------- -------- 7.8/9.8 MB 1.1 MB/s eta 0:00:02\n",
      "   ------------------------------- -------- 7.8/9.8 MB 1.1 MB/s eta 0:00:02\n",
      "   -------------------------------- ------- 7.9/9.8 MB 1.1 MB/s eta 0:00:02\n",
      "   -------------------------------- ------- 8.0/9.8 MB 1.1 MB/s eta 0:00:02\n",
      "   -------------------------------- ------- 8.1/9.8 MB 1.1 MB/s eta 0:00:02\n",
      "   --------------------------------- ------ 8.1/9.8 MB 1.1 MB/s eta 0:00:02\n",
      "   --------------------------------- ------ 8.1/9.8 MB 1.1 MB/s eta 0:00:02\n",
      "   --------------------------------- ------ 8.1/9.8 MB 1.1 MB/s eta 0:00:02\n",
      "   --------------------------------- ------ 8.2/9.8 MB 1.1 MB/s eta 0:00:02\n",
      "   --------------------------------- ------ 8.3/9.8 MB 1.1 MB/s eta 0:00:02\n",
      "   ---------------------------------- ----- 8.4/9.8 MB 1.1 MB/s eta 0:00:02\n",
      "   ---------------------------------- ----- 8.4/9.8 MB 1.1 MB/s eta 0:00:02\n",
      "   ---------------------------------- ----- 8.5/9.8 MB 1.1 MB/s eta 0:00:02\n",
      "   ----------------------------------- ---- 8.6/9.8 MB 1.1 MB/s eta 0:00:02\n",
      "   ----------------------------------- ---- 8.7/9.8 MB 1.1 MB/s eta 0:00:01\n",
      "   ----------------------------------- ---- 8.8/9.8 MB 1.1 MB/s eta 0:00:01\n",
      "   ------------------------------------ --- 8.9/9.8 MB 1.1 MB/s eta 0:00:01\n",
      "   ------------------------------------ --- 9.0/9.8 MB 1.1 MB/s eta 0:00:01\n",
      "   ------------------------------------- -- 9.1/9.8 MB 1.1 MB/s eta 0:00:01\n",
      "   ------------------------------------- -- 9.2/9.8 MB 1.1 MB/s eta 0:00:01\n",
      "   ------------------------------------- -- 9.2/9.8 MB 1.1 MB/s eta 0:00:01\n",
      "   -------------------------------------- - 9.3/9.8 MB 1.1 MB/s eta 0:00:01\n",
      "   -------------------------------------- - 9.4/9.8 MB 1.2 MB/s eta 0:00:01\n",
      "   -------------------------------------- - 9.5/9.8 MB 1.2 MB/s eta 0:00:01\n",
      "   ---------------------------------------  9.6/9.8 MB 1.2 MB/s eta 0:00:01\n",
      "   ---------------------------------------  9.7/9.8 MB 1.2 MB/s eta 0:00:01\n",
      "   ---------------------------------------  9.8/9.8 MB 1.2 MB/s eta 0:00:01\n",
      "   ---------------------------------------  9.8/9.8 MB 1.2 MB/s eta 0:00:01\n",
      "   ---------------------------------------  9.8/9.8 MB 1.2 MB/s eta 0:00:01\n",
      "   ---------------------------------------  9.8/9.8 MB 1.2 MB/s eta 0:00:01\n",
      "   ---------------------------------------  9.8/9.8 MB 1.2 MB/s eta 0:00:01\n",
      "   ---------------------------------------  9.8/9.8 MB 1.2 MB/s eta 0:00:01\n",
      "   ---------------------------------------  9.8/9.8 MB 1.2 MB/s eta 0:00:01\n",
      "   ---------------------------------------  9.8/9.8 MB 1.2 MB/s eta 0:00:01\n",
      "   ---------------------------------------  9.8/9.8 MB 1.2 MB/s eta 0:00:01\n",
      "   ---------------------------------------  9.8/9.8 MB 1.2 MB/s eta 0:00:01\n",
      "   ---------------------------------------  9.8/9.8 MB 1.2 MB/s eta 0:00:01\n",
      "   ---------------------------------------  9.8/9.8 MB 1.2 MB/s eta 0:00:01\n",
      "   ---------------------------------------  9.8/9.8 MB 1.2 MB/s eta 0:00:01\n",
      "   ---------------------------------------  9.8/9.8 MB 1.2 MB/s eta 0:00:01\n",
      "   ---------------------------------------  9.8/9.8 MB 1.2 MB/s eta 0:00:01\n",
      "   ---------------------------------------  9.8/9.8 MB 1.2 MB/s eta 0:00:01\n",
      "   ---------------------------------------- 9.8/9.8 MB 1.1 MB/s eta 0:00:00\n",
      "Downloading patsy-0.5.6-py2.py3-none-any.whl (233 kB)\n",
      "   ---------------------------------------- 0.0/233.9 kB ? eta -:--:--\n",
      "   ----------------------------- ---------- 174.1/233.9 kB 3.5 MB/s eta 0:00:01\n",
      "   -------------------------------------- - 225.3/233.9 kB 3.5 MB/s eta 0:00:01\n",
      "   -------------------------------------- - 225.3/233.9 kB 3.5 MB/s eta 0:00:01\n",
      "   -------------------------------------- - 225.3/233.9 kB 3.5 MB/s eta 0:00:01\n",
      "   -------------------------------------- - 225.3/233.9 kB 3.5 MB/s eta 0:00:01\n",
      "   -------------------------------------- - 225.3/233.9 kB 3.5 MB/s eta 0:00:01\n",
      "   -------------------------------------- 233.9/233.9 kB 717.0 kB/s eta 0:00:00\n",
      "Installing collected packages: patsy, statsmodels\n",
      "Successfully installed patsy-0.5.6 statsmodels-0.14.2\n"
     ]
    },
    {
     "name": "stderr",
     "output_type": "stream",
     "text": [
      "\n",
      "[notice] A new release of pip is available: 24.0 -> 24.2\n",
      "[notice] To update, run: python.exe -m pip install --upgrade pip\n"
     ]
    }
   ],
   "source": [
    "pip install statsmodels\n"
   ]
  },
  {
   "cell_type": "code",
   "execution_count": null,
   "metadata": {},
   "outputs": [],
   "source": []
  },
  {
   "cell_type": "markdown",
   "metadata": {},
   "source": [
    "### ADF Test"
   ]
  },
  {
   "cell_type": "code",
   "execution_count": 9,
   "metadata": {},
   "outputs": [
    {
     "data": {
      "text/plain": [
       "(np.float64(0.8153688792060482),\n",
       " np.float64(0.991880243437641),\n",
       " 13,\n",
       " 130,\n",
       " {'1%': np.float64(-3.4816817173418295),\n",
       "  '5%': np.float64(-2.8840418343195267),\n",
       "  '10%': np.float64(-2.578770059171598)},\n",
       " np.float64(996.692930839019))"
      ]
     },
     "execution_count": 9,
     "metadata": {},
     "output_type": "execute_result"
    }
   ],
   "source": [
    "from statsmodels.tsa.stattools import adfuller\n",
    "\n",
    "adfuller(df['Passengers'])\n",
    "\n",
    " "
   ]
  },
  {
   "cell_type": "code",
   "execution_count": 10,
   "metadata": {},
   "outputs": [
    {
     "data": {
      "text/plain": [
       "0       NaN\n",
       "1       6.0\n",
       "2      14.0\n",
       "3      -3.0\n",
       "4      -8.0\n",
       "       ... \n",
       "139   -16.0\n",
       "140   -98.0\n",
       "141   -47.0\n",
       "142   -71.0\n",
       "143    42.0\n",
       "Name: Passengers, Length: 144, dtype: float64"
      ]
     },
     "execution_count": 10,
     "metadata": {},
     "output_type": "execute_result"
    }
   ],
   "source": [
    "df['Passengers'].diff()\n",
    " "
   ]
  },
  {
   "cell_type": "code",
   "execution_count": 12,
   "metadata": {},
   "outputs": [
    {
     "data": {
      "text/plain": [
       "1       6.0\n",
       "2      14.0\n",
       "3      -3.0\n",
       "4      -8.0\n",
       "5      14.0\n",
       "       ... \n",
       "139   -16.0\n",
       "140   -98.0\n",
       "141   -47.0\n",
       "142   -71.0\n",
       "143    42.0\n",
       "Name: Passengers, Length: 143, dtype: float64"
      ]
     },
     "execution_count": 12,
     "metadata": {},
     "output_type": "execute_result"
    }
   ],
   "source": [
    "X = df['Passengers'].diff().dropna()\n",
    "X"
   ]
  },
  {
   "cell_type": "code",
   "execution_count": 13,
   "metadata": {},
   "outputs": [
    {
     "data": {
      "text/plain": [
       "(np.float64(-2.8292668241699994),\n",
       " np.float64(0.0542132902838255),\n",
       " 12,\n",
       " 130,\n",
       " {'1%': np.float64(-3.4816817173418295),\n",
       "  '5%': np.float64(-2.8840418343195267),\n",
       "  '10%': np.float64(-2.578770059171598)},\n",
       " np.float64(988.5069317854084))"
      ]
     },
     "execution_count": 13,
     "metadata": {},
     "output_type": "execute_result"
    }
   ],
   "source": [
    "adfuller(X)"
   ]
  },
  {
   "cell_type": "markdown",
   "metadata": {},
   "source": [
    "##### Here we get the Stationary data after the doing differences to get the stationary data during ADF test on the dataset"
   ]
  },
  {
   "cell_type": "code",
   "execution_count": 14,
   "metadata": {},
   "outputs": [
    {
     "data": {
      "text/plain": [
       "1       6.0\n",
       "2      14.0\n",
       "3      -3.0\n",
       "4      -8.0\n",
       "5      14.0\n",
       "       ... \n",
       "139   -16.0\n",
       "140   -98.0\n",
       "141   -47.0\n",
       "142   -71.0\n",
       "143    42.0\n",
       "Name: Passengers, Length: 143, dtype: float64"
      ]
     },
     "execution_count": 14,
     "metadata": {},
     "output_type": "execute_result"
    }
   ],
   "source": [
    "X"
   ]
  },
  {
   "cell_type": "code",
   "execution_count": 18,
   "metadata": {},
   "outputs": [
    {
     "data": {
      "image/png": "[encoded data removed]",
      "text/plain": [
       "<Figure size 640x480 with 1 Axes>"
      ]
     },
     "execution_count": 18,
     "metadata": {},
     "output_type": "execute_result"
    },
    {
     "data": {
      "image/png": "[encoded data removed]",
      "text/plain": [
       "<Figure size 640x480 with 1 Axes>"
      ]
     },
     "metadata": {},
     "output_type": "display_data"
    }
   ],
   "source": [
    "from statsmodels.graphics.tsaplots import plot_pacf,plot_acf\n",
    "\n",
    "plot_acf(df['Passengers'], lags=20)"
   ]
  },
  {
   "cell_type": "code",
   "execution_count": 17,
   "metadata": {},
   "outputs": [
    {
     "data": {
      "image/png": "[encoded data removed]",
      "text/plain": [
       "<Figure size 640x480 with 1 Axes>"
      ]
     },
     "execution_count": 17,
     "metadata": {},
     "output_type": "execute_result"
    },
    {
     "data": {
      "image/png": "[encoded data removed]",
      "text/plain": [
       "<Figure size 640x480 with 1 Axes>"
      ]
     },
     "metadata": {},
     "output_type": "display_data"
    }
   ],
   "source": [
    "plot_pacf(df['Passengers'], lags=20)"
   ]
  },
  {
   "cell_type": "code",
   "execution_count": 25,
   "metadata": {},
   "outputs": [
    {
     "data": {
      "text/plain": [
       "144    471.000383\n",
       "145    492.998177\n",
       "146    497.918890\n",
       "147    492.528738\n",
       "148    484.243730\n",
       "149    477.843463\n",
       "150    474.914377\n",
       "151    474.849500\n",
       "152    476.211067\n",
       "153    477.727786\n",
       "154    478.716191\n",
       "155    479.052519\n",
       "Name: predicted_mean, dtype: float64"
      ]
     },
     "execution_count": 25,
     "metadata": {},
     "output_type": "execute_result"
    }
   ],
   "source": [
    "from statsmodels.tsa.arima.model import ARIMA\n",
    " \n",
    "ar = ARIMA(df['Passengers'],order=(2,1,1))\n",
    "\n",
    "ar = ar.fit()\n",
    "\n",
    "ar.forecast(steps=12)"
   ]
  },
  {
   "cell_type": "code",
   "execution_count": null,
   "metadata": {},
   "outputs": [],
   "source": []
  }
 ],
 "metadata": {
  "kernelspec": {
   "display_name": "Python 3",
   "language": "python",
   "name": "python3"
  },
  "language_info": {
   "codemirror_mode": {
    "name": "ipython",
    "version": 3
   },
   "file_extension": ".py",
   "mimetype": "text/x-python",
   "name": "python",
   "nbconvert_exporter": "python",
   "pygments_lexer": "ipython3",
   "version": "3.12.4"
  }
 },
 "nbformat": 4,
 "nbformat_minor": 2
}

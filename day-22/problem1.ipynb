{
 "cells": [
  {
   "cell_type": "code",
   "execution_count": null,
   "metadata": {},
   "outputs": [],
   "source": [
    "x1 = [1, 3, 5, 7, 9, 11, 13]\n",
    "x2 = [2, 5, 7, 6, 11, 14, 15]\n",
    "y = [15, 17, 11, 16, 18, 24]\n",
    " \n",
    "a = 0.01\n",
    "o1 = 0\n",
    "o2 = 0\n",
    "o0 = 0\n",
    " \n",
    "for i in range(2000):\n",
    "    sum1 = 0\n",
    "    sum2 = 0\n",
    "    sum3 = 0\n",
    " \n",
    "    for j, k, p in zip(x1, x2, y):\n",
    "        sum1 = sum1 + ((o0 + (o1 * j) + (o2 * k)) - p) * j  # o1\n",
    "        sum2 = sum2 + ((o0 + (o1 * j) + (o2 * k)) - p) * k  # o2\n",
    "        sum3 = sum3 + ((o0 + (o1 * j) + (o2 * k)) - p)      # o0\n",
    " \n",
    "    do1 = sum1 / len(x1)\n",
    "    do2 = sum2 / len(x2)\n",
    "    do0 = sum3 / len(y)\n",
    " \n",
    "    o1 = o1 - (a * do1)\n",
    "    o2 = o2 - (a * do2)\n",
    "    o0 = o0 - (a * do0)\n",
    " \n",
    "print(o1, o2, o0)"
   ]
  }
 ],
 "metadata": {
  "kernelspec": {
   "display_name": "Python 3",
   "language": "python",
   "name": "python3"
  },
  "language_info": {
   "name": "python",
   "version": "3.12.4"
  }
 },
 "nbformat": 4,
 "nbformat_minor": 2
}
